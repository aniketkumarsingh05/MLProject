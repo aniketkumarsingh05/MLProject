{
  "nbformat": 4,
  "nbformat_minor": 0,
  "metadata": {
    "colab": {
      "name": "Diabetes.ipynb",
      "provenance": []
    },
    "kernelspec": {
      "name": "python3",
      "display_name": "Python 3"
    },
    "language_info": {
      "name": "python"
    }
  },
  "cells": [
    {
      "cell_type": "code",
      "metadata": {
        "id": "FCbifuOEHQUB"
      },
      "source": [
        "import pandas as pd"
      ],
      "execution_count": 1,
      "outputs": []
    },
    {
      "cell_type": "code",
      "metadata": {
        "id": "Ni6J5jB3LI1J"
      },
      "source": [
        "df = pd.read_csv('/content/drive/MyDrive/DATA/diabetes.csv')"
      ],
      "execution_count": 2,
      "outputs": []
    },
    {
      "cell_type": "code",
      "metadata": {
        "colab": {
          "base_uri": "https://localhost:8080/"
        },
        "id": "6ueUeCRgLOzS",
        "outputId": "1b363797-b0f8-47d7-cdee-048c450d7e1a"
      },
      "source": [
        "df.isnull().sum()"
      ],
      "execution_count": 4,
      "outputs": [
        {
          "output_type": "execute_result",
          "data": {
            "text/plain": [
              "Pregnancies                 0\n",
              "Glucose                     0\n",
              "BloodPressure               0\n",
              "SkinThickness               0\n",
              "Insulin                     0\n",
              "BMI                         0\n",
              "DiabetesPedigreeFunction    0\n",
              "Age                         0\n",
              "Outcome                     0\n",
              "dtype: int64"
            ]
          },
          "metadata": {},
          "execution_count": 4
        }
      ]
    },
    {
      "cell_type": "code",
      "metadata": {
        "colab": {
          "base_uri": "https://localhost:8080/"
        },
        "id": "CBIQcOSYLSn-",
        "outputId": "6bbb625c-bc7b-4613-d8d5-6160fbe96466"
      },
      "source": [
        "df.info()"
      ],
      "execution_count": 5,
      "outputs": [
        {
          "output_type": "stream",
          "name": "stdout",
          "text": [
            "<class 'pandas.core.frame.DataFrame'>\n",
            "RangeIndex: 768 entries, 0 to 767\n",
            "Data columns (total 9 columns):\n",
            " #   Column                    Non-Null Count  Dtype  \n",
            "---  ------                    --------------  -----  \n",
            " 0   Pregnancies               768 non-null    int64  \n",
            " 1   Glucose                   768 non-null    int64  \n",
            " 2   BloodPressure             768 non-null    int64  \n",
            " 3   SkinThickness             768 non-null    int64  \n",
            " 4   Insulin                   768 non-null    int64  \n",
            " 5   BMI                       768 non-null    float64\n",
            " 6   DiabetesPedigreeFunction  768 non-null    float64\n",
            " 7   Age                       768 non-null    int64  \n",
            " 8   Outcome                   768 non-null    int64  \n",
            "dtypes: float64(2), int64(7)\n",
            "memory usage: 54.1 KB\n"
          ]
        }
      ]
    },
    {
      "cell_type": "code",
      "metadata": {
        "colab": {
          "base_uri": "https://localhost:8080/"
        },
        "id": "clJ_HZxkLUpb",
        "outputId": "e79f9058-2f3a-45b7-9b17-e92ae9beac21"
      },
      "source": [
        "df['Outcome'].value_counts()"
      ],
      "execution_count": 6,
      "outputs": [
        {
          "output_type": "execute_result",
          "data": {
            "text/plain": [
              "0    500\n",
              "1    268\n",
              "Name: Outcome, dtype: int64"
            ]
          },
          "metadata": {},
          "execution_count": 6
        }
      ]
    },
    {
      "cell_type": "code",
      "metadata": {
        "id": "o35irKx2Nih_"
      },
      "source": [
        "x = df.iloc[:,:-1].values\n",
        "y = df.iloc[:,-1].values"
      ],
      "execution_count": 7,
      "outputs": []
    },
    {
      "cell_type": "code",
      "metadata": {
        "id": "RkQCx6whNrvb"
      },
      "source": [
        "from sklearn.model_selection import train_test_split\n",
        "x_train,x_test,y_train,y_test = train_test_split(x,y,test_size = 0.2,random_state = 0)"
      ],
      "execution_count": 9,
      "outputs": []
    },
    {
      "cell_type": "code",
      "metadata": {
        "colab": {
          "base_uri": "https://localhost:8080/"
        },
        "id": "c9x_wFFrNuZ2",
        "outputId": "6b34aece-ff4d-4961-acd0-698f2de1b90d"
      },
      "source": [
        "print('X Train Shape',x_train.shape)\n",
        "print('Y Train Shape',y_train.shape)\n",
        "print('X Test Shape',x_test.shape)\n",
        "print('Y Test Shape',y_test.shape)"
      ],
      "execution_count": 17,
      "outputs": [
        {
          "output_type": "stream",
          "name": "stdout",
          "text": [
            "X Train Shape (614, 8)\n",
            "Y Train Shape (614,)\n",
            "X Test Shape (154, 8)\n",
            "Y Test Shape (154,)\n"
          ]
        }
      ]
    },
    {
      "cell_type": "code",
      "metadata": {
        "id": "UyUWHkBGOgW6"
      },
      "source": [
        "from sklearn.linear_model import LogisticRegression\n",
        "from sklearn.neighbors import KNeighborsClassifier\n",
        "from sklearn.svm import SVC\n",
        "from sklearn.tree import DecisionTreeClassifier\n",
        "from sklearn.ensemble import RandomForestClassifier\n"
      ],
      "execution_count": 19,
      "outputs": []
    },
    {
      "cell_type": "code",
      "metadata": {
        "id": "lR_uJQVeOkzX"
      },
      "source": [
        "models_list = [(LogisticRegression(),[{'dual':[False],'max_iter':[100,150,200,250,300],'C':[0.25,0.5,0.75,1,1.5,2.0],'random_state':[0]}]),\n",
        "             (KNeighborsClassifier(),[{'n_neighbors':[5,10,6,7]}]),\n",
        "             (SVC(),[{'C':[0.25,0.5,0.75,1],'kernel':['linear'],'random_state':[0]},{'C':[0.25,0.5,0.75,1],'kernel':['rbf'],'gamma':[0.1,0.2,0.3,0.4,0.5,0.6,0.7,0.8,0.9],'random_state':[0]}]),\n",
        "             (DecisionTreeClassifier(),[{'criterion':['gini','entropy'],'random_state':[0]}]),\n",
        "             (RandomForestClassifier(),[{'n_estimators':[10,100,50,150,200],'criterion':['gini','entropy'],'random_state':[0]}])]"
      ],
      "execution_count": 47,
      "outputs": []
    },
    {
      "cell_type": "code",
      "metadata": {
        "id": "OrVrE54MOwcl"
      },
      "source": [
        "from sklearn.model_selection import GridSearchCV"
      ],
      "execution_count": 48,
      "outputs": []
    },
    {
      "cell_type": "code",
      "metadata": {
        "id": "HyzmZpz1SE65"
      },
      "source": [
        "import warnings\n",
        "warnings.filterwarnings(\"ignore\")"
      ],
      "execution_count": 49,
      "outputs": []
    },
    {
      "cell_type": "code",
      "metadata": {
        "colab": {
          "base_uri": "https://localhost:8080/"
        },
        "id": "a2biUcgZPhIq",
        "outputId": "436d6e28-a73b-4acb-c8e4-5ef102c1b8ff"
      },
      "source": [
        "for i,j in models_list:\n",
        "    grid = GridSearchCV(estimator=i,param_grid = j, scoring = 'accuracy',cv = 10)\n",
        "    grid.fit(x_train,y_train)\n",
        "    best_accuracy = grid.best_score_\n",
        "    best_param = grid.best_params_\n",
        "    print('Best Accuracy : {:.2f}%'.format(i,best_accuracy*100))\n",
        "    print('Best Parameters : ',best_param)"
      ],
      "execution_count": 50,
      "outputs": [
        {
          "output_type": "stream",
          "name": "stdout",
          "text": [
            "LogisticRegression(C=1.0, class_weight=None, dual=False, fit_intercept=True,\n",
            "                   intercept_scaling=1, l1_ratio=None, max_iter=100,\n",
            "                   multi_class='auto', n_jobs=None, penalty='l2',\n",
            "                   random_state=None, solver='lbfgs', tol=0.0001, verbose=0,\n",
            "                   warm_start=False) Best Accuracy : 76.70%\n",
            "Best Parameters :  {'C': 1.5, 'dual': False, 'max_iter': 100, 'random_state': 0}\n",
            "KNeighborsClassifier(algorithm='auto', leaf_size=30, metric='minkowski',\n",
            "                     metric_params=None, n_jobs=None, n_neighbors=5, p=2,\n",
            "                     weights='uniform') Best Accuracy : 71.66%\n",
            "Best Parameters :  {'n_neighbors': 10}\n",
            "SVC(C=1.0, break_ties=False, cache_size=200, class_weight=None, coef0=0.0,\n",
            "    decision_function_shape='ovr', degree=3, gamma='scale', kernel='rbf',\n",
            "    max_iter=-1, probability=False, random_state=None, shrinking=True,\n",
            "    tol=0.001, verbose=False) Best Accuracy : 75.72%\n",
            "Best Parameters :  {'C': 0.25, 'kernel': 'linear', 'random_state': 0}\n",
            "DecisionTreeClassifier(ccp_alpha=0.0, class_weight=None, criterion='gini',\n",
            "                       max_depth=None, max_features=None, max_leaf_nodes=None,\n",
            "                       min_impurity_decrease=0.0, min_impurity_split=None,\n",
            "                       min_samples_leaf=1, min_samples_split=2,\n",
            "                       min_weight_fraction_leaf=0.0, presort='deprecated',\n",
            "                       random_state=None, splitter='best') Best Accuracy : 71.03%\n",
            "Best Parameters :  {'criterion': 'gini', 'random_state': 0}\n",
            "RandomForestClassifier(bootstrap=True, ccp_alpha=0.0, class_weight=None,\n",
            "                       criterion='gini', max_depth=None, max_features='auto',\n",
            "                       max_leaf_nodes=None, max_samples=None,\n",
            "                       min_impurity_decrease=0.0, min_impurity_split=None,\n",
            "                       min_samples_leaf=1, min_samples_split=2,\n",
            "                       min_weight_fraction_leaf=0.0, n_estimators=100,\n",
            "                       n_jobs=None, oob_score=False, random_state=None,\n",
            "                       verbose=0, warm_start=False) Best Accuracy : 76.08%\n",
            "Best Parameters :  {'criterion': 'entropy', 'n_estimators': 200, 'random_state': 0}\n"
          ]
        }
      ]
    },
    {
      "cell_type": "code",
      "metadata": {
        "colab": {
          "base_uri": "https://localhost:8080/"
        },
        "id": "Lcei7DjKTKB4",
        "outputId": "9dd0698f-f27a-400c-f93c-15610fa8e4c2"
      },
      "source": [
        "from sklearn.metrics import confusion_matrix , accuracy_score\n",
        "lr = LogisticRegression(C= 1.5, dual= False, max_iter= 100, random_state= 0)\n",
        "lr.fit(x_train,y_train)\n",
        "lrtest = lr.predict(x_test)\n",
        "ascore = accuracy_score(y_test,lrtest)\n",
        "print('Accuracy of Logistic Regression : {:.2f}%'.format(ascore*100))"
      ],
      "execution_count": 73,
      "outputs": [
        {
          "output_type": "stream",
          "name": "stdout",
          "text": [
            "Accuracy of Logistic Regression : 82.47%\n"
          ]
        }
      ]
    },
    {
      "cell_type": "code",
      "metadata": {
        "colab": {
          "base_uri": "https://localhost:8080/"
        },
        "id": "mRKgFvtJUwuL",
        "outputId": "3d994188-dc23-41da-9644-573a1dda83c6"
      },
      "source": [
        "knn = KNeighborsClassifier(n_neighbors= 10)\n",
        "knn.fit(x_train,y_train)\n",
        "knntest = knn.predict(x_test)\n",
        "knnscore = accuracy_score(y_test,knntest)\n",
        "print('Accuracy of KNN : {:.2f}%'.format(knnscore*100))"
      ],
      "execution_count": 74,
      "outputs": [
        {
          "output_type": "stream",
          "name": "stdout",
          "text": [
            "Accuracy of KNN : 79.22%\n"
          ]
        }
      ]
    },
    {
      "cell_type": "code",
      "metadata": {
        "colab": {
          "base_uri": "https://localhost:8080/"
        },
        "id": "T5TD8X2UVEMo",
        "outputId": "3afd0911-e8b5-4c5d-891f-74b014ad96e5"
      },
      "source": [
        "dct = DecisionTreeClassifier(criterion='gini', random_state= 0)\n",
        "dct.fit(x_train,y_train)\n",
        "dcttest = dct.predict(x_test)\n",
        "dctscore = accuracy_score(y_test,dcttest)\n",
        "print('Accuracy of Decision Tree : {:.2f}%'.format(dctscore*100))"
      ],
      "execution_count": 75,
      "outputs": [
        {
          "output_type": "stream",
          "name": "stdout",
          "text": [
            "Accuracy of Decision Tree : 76.62%\n"
          ]
        }
      ]
    },
    {
      "cell_type": "code",
      "metadata": {
        "colab": {
          "base_uri": "https://localhost:8080/"
        },
        "id": "kjYD6AHDVb8A",
        "outputId": "bdf2e517-8090-4caf-91b0-2534babe8953"
      },
      "source": [
        "svc = SVC(C=0.25, kernel='linear', random_state= 0)\n",
        "svc.fit(x_train,y_train)\n",
        "svctest = svc.predict(x_test)\n",
        "svcscore = accuracy_score(y_test,svctest)\n",
        "print('Accuracy of SVM : {:.2f}%'.format(svcscore*100))"
      ],
      "execution_count": 76,
      "outputs": [
        {
          "output_type": "stream",
          "name": "stdout",
          "text": [
            "Accuracy of SVM : 82.47%\n"
          ]
        }
      ]
    },
    {
      "cell_type": "code",
      "metadata": {
        "colab": {
          "base_uri": "https://localhost:8080/"
        },
        "id": "ZuUoNJ2MWI1_",
        "outputId": "b1554613-4069-4043-8af0-47df700cfff6"
      },
      "source": [
        "rfc = RandomForestClassifier(criterion= 'entropy', n_estimators=200, random_state= 0)\n",
        "rfc.fit(x_train,y_train)\n",
        "rfctest = rfc.predict(x_test)\n",
        "rfcscore = accuracy_score(y_test,rfctest)\n",
        "print('Accuracy of Random Forest : {:.2f}%'.format(rfcscore*100))"
      ],
      "execution_count": 77,
      "outputs": [
        {
          "output_type": "stream",
          "name": "stdout",
          "text": [
            "Accuracy of Random Forest : 81.17%\n"
          ]
        }
      ]
    },
    {
      "cell_type": "code",
      "metadata": {
        "id": "EH_kBmDbWy_J"
      },
      "source": [
        "l = []\n",
        "l.append(lr)\n",
        "l.append(knn)\n",
        "l.append(dct)\n",
        "l.append(svc)\n",
        "l.append(rfc)"
      ],
      "execution_count": 78,
      "outputs": []
    },
    {
      "cell_type": "code",
      "metadata": {
        "colab": {
          "base_uri": "https://localhost:8080/"
        },
        "id": "_yFt81AMXo3m",
        "outputId": "584694e9-18c0-4f2b-bf78-9f62b5976ab1"
      },
      "source": [
        "for i in l:\n",
        "    i.fit(x_train,y_train)\n",
        "    pr = i.predict(x_test)\n",
        "    a = accuracy_score(y_test,pr)\n",
        "    print('Accuracy :{:.2f}%'.format(a*100))"
      ],
      "execution_count": 84,
      "outputs": [
        {
          "output_type": "stream",
          "name": "stdout",
          "text": [
            "Accuracy :82.47%\n",
            "Accuracy :79.22%\n",
            "Accuracy :76.62%\n",
            "Accuracy :82.47%\n",
            "Accuracy :81.17%\n"
          ]
        }
      ]
    },
    {
      "cell_type": "code",
      "metadata": {
        "id": "1yBSL42dZnBb"
      },
      "source": [
        "import pickle\n",
        "pickle.dump(svc, open('SVC_diabetes.pkl', 'wb'))"
      ],
      "execution_count": 90,
      "outputs": []
    },
    {
      "cell_type": "code",
      "metadata": {
        "colab": {
          "base_uri": "https://localhost:8080/"
        },
        "id": "eHMuC89KaD4m",
        "outputId": "7df3afd8-af4a-4a4e-8ff5-70604b387910"
      },
      "source": [
        "from sklearn.externals import joblib\n",
        " \n",
        "# Save the model as a pickle in a file\n",
        "joblib.dump(knn, 'Svc_model.pkl')\n",
        " \n",
        "# Load the model from the file\n",
        "svc_model = joblib.load('Svc_model.pkl')\n",
        " \n",
        "# Use the loaded model to make predictions\n",
        "svc_model.predict(x_test)"
      ],
      "execution_count": 87,
      "outputs": [
        {
          "output_type": "execute_result",
          "data": {
            "text/plain": [
              "array([1, 0, 0, 1, 0, 0, 1, 1, 0, 0, 1, 1, 0, 0, 0, 0, 1, 0, 0, 0, 0, 0,\n",
              "       0, 0, 0, 0, 0, 1, 0, 0, 1, 0, 0, 0, 0, 1, 1, 0, 0, 1, 0, 0, 0, 1,\n",
              "       1, 0, 0, 0, 0, 0, 0, 0, 0, 0, 0, 0, 0, 0, 0, 0, 1, 0, 0, 1, 1, 1,\n",
              "       1, 0, 1, 0, 0, 0, 0, 1, 1, 0, 0, 1, 0, 0, 1, 0, 0, 0, 0, 0, 0, 0,\n",
              "       1, 0, 0, 0, 0, 0, 0, 0, 0, 0, 0, 1, 0, 0, 0, 0, 0, 0, 0, 0, 0, 1,\n",
              "       0, 0, 0, 0, 1, 1, 0, 1, 0, 1, 0, 1, 0, 0, 0, 0, 0, 0, 0, 1, 0, 0,\n",
              "       0, 1, 0, 0, 0, 0, 1, 0, 0, 1, 0, 0, 1, 0, 0, 0, 0, 0, 0, 0, 0, 0])"
            ]
          },
          "metadata": {},
          "execution_count": 87
        }
      ]
    }
  ]
}